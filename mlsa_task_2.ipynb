{
 "cells": [
  {
   "cell_type": "code",
   "execution_count": null,
   "id": "73aca29b-fd74-4bae-bee2-645b7780b509",
   "metadata": {
    "tags": []
   },
   "outputs": [],
   "source": [
    "import cv2\n",
    "#saving a video\n",
    "cap = cv2.VideoCapture(0)\n",
    "fourcc = cv2.VideoWriter_fourcc(*'MP4V')\n",
    "out = cv2.VideoWriter('output.avi',fourcc, 20.0, (640,480))\n",
    "while(cap.isOpened()):\n",
    "    ret, frame = cap.read()\n",
    "    if ret==True:\n",
    "        frame = cv2.flip(frame,1)\n",
    "# write the flipped frame\n",
    "        out.write(frame)\n",
    "        cv2.imshow('frame',frame)\n",
    "        if cv2.waitKey(1 )& 0xFF == ord('q'):\n",
    "            break\n",
    "    else:\n",
    "         break\n",
    "# Release everything if job is finished\n",
    "cap.release()\n",
    "out.release()\n",
    "cv2.destroyAllWindows() \n",
    "# Reading the image sequence from a file\n",
    "video = cv2.VideoCapture('output.avi')\n",
    " \n",
    "# Checking whether the video has opened using the isOpened function\n",
    "if (video.isOpened() == False):\n",
    "    print(\"Error opening the video file\")\n",
    " \n",
    "# When the video has been opened successfully, we'll read each frame of the video using a loop\n",
    "while(video.isOpened()):\n",
    "    ret, frame = video.read()\n",
    "    if ret == True:\n",
    "        # Using waitKey to display each frame of the video for 1 ms\n",
    "        cv2.imshow('Frame',frame)\n",
    "        key = cv2.waitKey(27)\n",
    "        if key == ord('q'):\n",
    "            break\n",
    " \n",
    "cv2.destroyAllWindows()"
   ]
  },
  {
   "cell_type": "code",
   "execution_count": null,
   "id": "b27d3235-5244-4fac-a861-cacfd5921bcc",
   "metadata": {},
   "outputs": [],
   "source": []
  }
 ],
 "metadata": {
  "kernelspec": {
   "display_name": "Python 3 (ipykernel)",
   "language": "python",
   "name": "python3"
  },
  "language_info": {
   "codemirror_mode": {
    "name": "ipython",
    "version": 3
   },
   "file_extension": ".py",
   "mimetype": "text/x-python",
   "name": "python",
   "nbconvert_exporter": "python",
   "pygments_lexer": "ipython3",
   "version": "3.11.5"
  }
 },
 "nbformat": 4,
 "nbformat_minor": 5
}
