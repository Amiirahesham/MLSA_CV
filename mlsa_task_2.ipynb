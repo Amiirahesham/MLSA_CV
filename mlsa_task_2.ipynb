import cv2
#saving a video
cap = cv2.VideoCapture(0)
fourcc = cv2.VideoWriter_fourcc(*'MP4V')
out = cv2.VideoWriter('output.avi',fourcc, 20.0, (640,480))
while(cap.isOpened()):
    ret, frame = cap.read()
    if ret==True:
        frame = cv2.flip(frame,1)
# write the flipped frame
        out.write(frame)
        cv2.imshow('frame',frame)
        if cv2.waitKey(1 )& 0xFF == ord('q'):
            break
    else:
         break
# Release everything if job is finished
cap.release()
out.release()
cv2.destroyAllWindows() 
# Reading the image sequence from a file
video = cv2.VideoCapture('output.avi')
 
# Checking whether the video has opened using the isOpened function
if (video.isOpened() == False):
    print("Error opening the video file")
 
# When the video has been opened successfully, we'll read each frame of the video using a loop
while(video.isOpened()):
    ret, frame = video.read()
    if ret == True:
        # Using waitKey to display each frame of the video for 1 ms
        cv2.imshow('Frame',frame)
        key = cv2.waitKey(27)
        if key == ord('q'):
            break
 
cv2.destroyAllWindows()
